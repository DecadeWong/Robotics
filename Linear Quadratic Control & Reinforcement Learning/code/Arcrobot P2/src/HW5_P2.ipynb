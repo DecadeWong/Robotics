{
 "cells": [
  {
   "cell_type": "markdown",
   "metadata": {},
   "source": [
    "# Linearize the acrobot dynamics around the state x0\n",
    "    so that obtain the linear approximation"
   ]
  },
  {
   "cell_type": "code",
   "execution_count": 31,
   "metadata": {},
   "outputs": [
    {
     "data": {
      "text/plain": [
       "array([[132230.69962896,  46306.40075231,  52361.25560798,\n",
       "         20787.16780692],\n",
       "       [ 46306.40075231,  16240.7415841 ,  18339.16402321,\n",
       "          7283.20389965],\n",
       "       [ 52361.25560798,  18339.16402321,  20734.52144416,\n",
       "          8231.78258355],\n",
       "       [ 20787.16780692,   7283.20389965,   8231.78258355,\n",
       "          3268.37393004]])"
      ]
     },
     "execution_count": 31,
     "metadata": {},
     "output_type": "execute_result"
    }
   ],
   "source": [
    "import sympy\n",
    "import scipy\n",
    "import numpy as np\n",
    "import matplotlib.pyplot as plt\n",
    "\n",
    "from scipy.integrate import odeint\n",
    "from collections import namedtuple\n",
    "from sympy.abc import r, k, g, xi\n",
    "from scipy.linalg import solve_continuous_are as solver\n",
    "\n",
    "\n",
    "def Linearizing (r_const, g_const, xi_const, X_init):\n",
    "    sympy.var('x0:4')\n",
    "    X = sympy.Matrix(4,1,sympy.var('x0:4'))\n",
    "    u = sympy.Matrix([sympy.var('u')])\n",
    "\n",
    "    # inertia matrix\n",
    "    M = sympy.Matrix ([[3 + 2*sympy.cos(x1), 1 + sympy.cos(x1)], [1 + sympy.cos(x1), 1]])\n",
    "    \n",
    "    # Coriolis, centripetal and gravitational forces\n",
    "    c1 = x3*(2*x2+x3)*sympy.sin(x1)+2*g*sympy.sin(x0)+g*sympy.sin(x0+x1)\n",
    "    c2 = -x2**2*sympy.sin(x1)+g*sympy.sin(x0+x1)\n",
    "    \n",
    "    # passive dynamics\n",
    "    temp_a = sympy.zeros(4,4)\n",
    "    temp_a[0:2, 0:2] = sympy.eye(2)\n",
    "    temp_a[2:4, 2:4] = M.inv()\n",
    "    a = temp_a * sympy.Matrix(4,1,[x2, x3, c1 - xi*x2, c2 - xi*x3])\n",
    "    \n",
    "    # control gain\n",
    "    temp_b = sympy.zeros(4,4)\n",
    "    temp_b[0:2, 0:2] = sympy.eye(2)\n",
    "    temp_b[2:4, 2:4] = M.inv() \n",
    "    b = temp_b * sympy.Matrix(4,1, [0, 0, 0, 1])\n",
    "\n",
    "    a = a.subs([(g, g_const), (xi, xi_const)])\n",
    "    b = b.subs([(g, g_const), (xi, xi_const)])\n",
    "\n",
    "    f = a + b*u #given the xi value and g value\n",
    "    \n",
    "    #linearization\n",
    "    A = f.jacobian(X)\n",
    "    B = f.jacobian(u)\n",
    "\n",
    "    A0 = A.subs([(x0, X_init[0]),(x1, X_init[1]),(x2, X_init[2]),(x3, X_init[3])]) #given the equilibrium point\n",
    "    B0 = B.subs([(x0, X_init[0]),(x1, X_init[1]),(x2, X_init[2]),(x3, X_init[3])]) #given the equilibrium point\n",
    "    X_dot = A0 * X + B0 * u\n",
    "    return a,b, A0, B0, X_dot\n",
    "\n",
    "\n",
    "def Q_approximation (r_const, k_const):\n",
    "    sympy.var('x0:4')\n",
    "    X = sympy.Matrix(4,1,sympy.var('x0:4'))\n",
    "    u = sympy.Matrix([sympy.var('u')])\n",
    "    \n",
    "    stage_cost =1- sympy.exp(k*sympy.cos(x0) + k*sympy.cos(x1) -2*k) + ((r**2)/2 * u*u)[0,0]\n",
    "    mystage_cost = stage_cost.subs([(r,r_const), (k,k_const)])\n",
    "    Q = sympy.hessian(mystage_cost, X)\n",
    "    stage_cost0 = (0.5*X.T*Q*X + r**2*u**2/2) \n",
    "    return Q, stage_cost0\n",
    "    \n",
    "    \n",
    "def LQR (Q, A0, B0, X_init):\n",
    "    myQ = Q.subs([(x0,X_init[0]),(x1,X_init[1]),(x2,X_init[2]),(x3,X_init[3])])\n",
    "    \n",
    "    myQ_lqr = sympy.matrix2numpy(myQ).astype(float)\n",
    "    A0_lqr = sympy.matrix2numpy(A0).astype(float)\n",
    "    B0_lqr = sympy.matrix2numpy(B0).astype(float)\n",
    "    \n",
    "    M = solver(A0_lqr, B0_lqr, myQ_lqr, 1)\n",
    "    return M\n",
    "\n",
    "def nonlinear_system (y, t, a, b, my_pi):\n",
    "    uu = my_pi(y[:, None])\n",
    "    dydt = a.subs([(x0,y[0]),(x1,y[1]),(x2,y[2]),(x3,y[3])]) +\\\n",
    "    b.subs([(x0,y[0]),(x1,y[1]),(x2,y[2]),(x3,y[3])])*uu\n",
    "    \n",
    "    dydt = (sympy.matrix2numpy(dydt).astype(float)).squeeze()\n",
    "    return dydt\n",
    "\n",
    "\n",
    "sympy.var('x0:4')\n",
    "X = sympy.Matrix(4,1,sympy.var('x0:4'))\n",
    "u = sympy.Matrix([sympy.var('u')])\n",
    "Consts = namedtuple('Consts', ['r_const', 'g_const', 'xi_const', 'k_const', 'X_init'])\n",
    "myconsts = Consts(r_const = 1, g_const = 9.8, xi_const = 1, k_const = 1, X_init = np.array([0,0,0,0]))\n",
    "\n",
    "a, b, A0, B0, X_dot = Linearizing (myconsts.r_const, myconsts.g_const, myconsts.xi_const, myconsts.X_init)\n",
    "Q, stage_cost0 = Q_approximation (myconsts.r_const, myconsts.k_const)\n",
    "M = LQR (Q, A0, B0, myconsts.X_init)\n",
    "\n",
    "# construction on nonlinearized system\n",
    "y0 = myconsts.X_init  #np.array([0,0,0,0]) #initial condition\n",
    "t = np.linspace(0, 10, 101)\n",
    "my_pi = lambda X: - 1/myconsts.r_const * B0.T * M * X\n",
    "sol = odeint(nonlinear_system, y0, t, args=(a, b, my_pi))\n",
    "\n",
    "M\n"
   ]
  },
  {
   "cell_type": "markdown",
   "metadata": {},
   "source": [
    "# test 1"
   ]
  },
  {
   "cell_type": "code",
   "execution_count": 289,
   "metadata": {},
   "outputs": [],
   "source": [
    "from scipy.integrate import odeint\n",
    "import matplotlib.pyplot as plt\n",
    "\n",
    "def nonlinear_system (y, t, a, b, my_pi):\n",
    "    uu = my_pi(y[:, None])\n",
    "    dydt = a.subs([(x0,y[0]),(x1,y[1]),(x2,y[2]),(x3,y[3])]) +\\\n",
    "    b.subs([(x0,y[0]),(x1,y[1]),(x2,y[2]),(x3,y[3])])*uu\n",
    "    \n",
    "    dydt = (sympy.matrix2numpy(dydt).astype(float)).squeeze()\n",
    "    return dydt\n",
    "\n",
    "y0 = np.array([0,0,0,0]) #initial condition\n",
    "t = np.linspace(0, 10, 101)\n",
    "\n",
    "my_pi = lambda X: - 1/r_const * B0.T * M * X\n",
    "sol = odeint(nonlinear_system, y0, t, args=(a, b, my_pi))\n",
    "\n",
    "\n",
    "\n",
    "\n",
    "plt.plot(t, sol[:, 0], 'b', label='theta(t)')\n",
    "plt.plot(t, sol[:, 1], 'g', label='omega(t)')\n",
    "plt.legend(loc='best')\n",
    "plt.xlabel('t')\n",
    "plt.grid()\n",
    "plt.show()\n"
   ]
  },
  {
   "cell_type": "markdown",
   "metadata": {},
   "source": [
    "# Test 2\n"
   ]
  },
  {
   "cell_type": "code",
   "execution_count": 246,
   "metadata": {
    "scrolled": false
   },
   "outputs": [],
   "source": [
    "import sympy\n",
    "from scipy.linalg import solve_continuous_are as solver\n",
    "import numpy as np\n",
    "\n",
    "\n",
    "\n",
    "from sympy.abc import r, k, g, xi\n",
    "\n",
    "sympy.var('x0:4')\n",
    "#sympy.var('u')\n",
    "X = sympy.Matrix(4,1,sympy.var('x0:4'))\n",
    "u = sympy.Matrix([sympy.var('u')])\n",
    "\n",
    "# inertia matrix\n",
    "M = sympy.Matrix ([[3 + 2*sympy.cos(x1), 1 + sympy.cos(x1)], [1 + sympy.cos(x1), 1]])\n",
    "# Coriolis, centripetal and gravitational forces\n",
    "c1 = x3*(2*x2+x3)*sympy.sin(x1)+2*g*sympy.sin(x0)+g*sympy.sin(x0+x1)\n",
    "c2 = -x2**2*sympy.sin(x1)+g*sympy.sin(x0+x1)\n",
    "# passive dynamics\n",
    "temp_a = sympy.zeros(4,4)\n",
    "temp_a[0:2, 0:2] = sympy.eye(2)\n",
    "temp_a[2:4, 2:4] = M.inv()\n",
    "a = temp_a * sympy.Matrix(4,1,[x2, x3, c1 - xi*x2, c2 - xi*x3])\n",
    "# control gain\n",
    "temp_b = sympy.zeros(4,4)\n",
    "temp_b[0:2, 0:2] = sympy.eye(2)\n",
    "temp_b[2:4, 2:4] = M.inv() \n",
    "b = temp_b * sympy.Matrix(4,1, [0, 0, 0, 1])\n",
    "\n",
    "f = (a + b*u).subs([(g,9.8), (xi, 1)])\n",
    "#linearization\n",
    "A = f.jacobian(X)\n",
    "B = f.jacobian(u)\n",
    "\n",
    "A0 = A.subs([(x0,0),(x1,0),(x2,0),(x3,0)]) #given the equilibrium point\n",
    "B0 = B.subs([(x0,0),(x1,0),(x2,0),(x3,0)]) #given the equilibrium point\n",
    "\n",
    "X_dot = A0 * X + B0 * u\n",
    "\n",
    "\n"
   ]
  },
  {
   "cell_type": "markdown",
   "metadata": {},
   "source": [
    "# Compute a quadratic approximation to the stage cost in the form:"
   ]
  },
  {
   "cell_type": "code",
   "execution_count": 233,
   "metadata": {},
   "outputs": [
    {
     "data": {
      "text/plain": [
       "Matrix([[r**2*u**2/2 + x0*(0.5*x0*(-exp(cos(x0) + cos(x1) - 2)*sin(x0)**2 + exp(cos(x0) + cos(x1) - 2)*cos(x0)) - 0.5*x1*exp(cos(x0) + cos(x1) - 2)*sin(x0)*sin(x1)) + x1*(-0.5*x0*exp(cos(x0) + cos(x1) - 2)*sin(x0)*sin(x1) + 0.5*x1*(-exp(cos(x0) + cos(x1) - 2)*sin(x1)**2 + exp(cos(x0) + cos(x1) - 2)*cos(x1)))]])"
      ]
     },
     "execution_count": 233,
     "metadata": {},
     "output_type": "execute_result"
    }
   ],
   "source": [
    "g =1- sympy.exp(k*sympy.cos(x0) + k*sympy.cos(x1) -2*k) + ((r**2)/2 * u*u)[0,0]\n",
    "myg = g.subs([(r,1), (k,1)])\n",
    "\n",
    "Q = sympy.hessian(myg, X)\n",
    "\n",
    "my_g0 = (0.5*X.T*Q*X + r**2*u**2/2)\n",
    "my_g0"
   ]
  },
  {
   "cell_type": "code",
   "execution_count": null,
   "metadata": {},
   "outputs": [],
   "source": [
    "\n",
    "def Q_approximation (r_const, k_const):\n",
    "    stage_cost =1- sympy.exp(k*sympy.cos(x0) + k*sympy.cos(x1) -2*k) + ((r**2)/2 * u*u)[0,0]\n",
    "    mystage_cost = stage_cost.subs([(r,r_const), (k,k_const)])\n",
    "    Q = sympy.hessian(mystage_cost, X)\n",
    "    \n",
    "    "
   ]
  },
  {
   "cell_type": "code",
   "execution_count": 237,
   "metadata": {},
   "outputs": [
    {
     "data": {
      "text/plain": [
       "Matrix([[786.672181344911*x0/r + 262.308548172979*x1/r + 310.129970596216*x2/r + 121.695516898224*x3/r]])"
      ]
     },
     "execution_count": 237,
     "metadata": {},
     "output_type": "execute_result"
    }
   ],
   "source": [
    "from scipy.linalg import solve_continuous_are as solver\n",
    "from sympy import lambdify\n",
    "import numpy as np\n",
    "\n",
    "myQ = Q.subs([(x0,0),(x1,0),(x2,0),(x3,0)])\n",
    "\n",
    "A0_lqr = sympy.matrix2numpy(A0).astype(float)\n",
    "B0_lqr = sympy.matrix2numpy(B0).astype(float)\n",
    "myQ_lqr = sympy.matrix2numpy(myQ).astype(float)\n",
    "M = solver(A0_lqr, B0_lqr, myQ_lqr, 1)\n",
    "\n",
    "\n",
    "my_pi = - 1/r * B0.T * M * X\n",
    "\n",
    "\n",
    "\n",
    "my_pi\n",
    "\n",
    "\n",
    "\n"
   ]
  },
  {
   "cell_type": "code",
   "execution_count": 28,
   "metadata": {},
   "outputs": [
    {
     "data": {
      "text/plain": [
       "array([-0.9954949 , -0.52216536, -0.42512278,  0.05655485])"
      ]
     },
     "execution_count": 28,
     "metadata": {},
     "output_type": "execute_result"
    }
   ],
   "source": [
    "x_init = np.random.randn(4)\n",
    "x_init.reshape((4,1))\n",
    "x_init"
   ]
  }
 ],
 "metadata": {
  "kernelspec": {
   "display_name": "Python 3",
   "language": "python",
   "name": "python3"
  },
  "language_info": {
   "codemirror_mode": {
    "name": "ipython",
    "version": 3
   },
   "file_extension": ".py",
   "mimetype": "text/x-python",
   "name": "python",
   "nbconvert_exporter": "python",
   "pygments_lexer": "ipython3",
   "version": "3.6.3"
  }
 },
 "nbformat": 4,
 "nbformat_minor": 2
}
