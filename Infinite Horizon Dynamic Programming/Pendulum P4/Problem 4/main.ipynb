{
 "cells": [
  {
   "cell_type": "code",
   "execution_count": 180,
   "metadata": {},
   "outputs": [],
   "source": [
    "import numpy as np\n",
    "import math\n",
    "from collections import namedtuple, defaultdict\n",
    "from scipy.stats import multivariate_normal\n",
    "import mdptoolbox.mdp as mdp\n",
    "import copy\n",
    "%matplotlib inline\n"
   ]
  },
  {
   "cell_type": "markdown",
   "metadata": {},
   "source": [
    "# Discretize the space"
   ]
  },
  {
   "cell_type": "code",
   "execution_count": 199,
   "metadata": {},
   "outputs": [],
   "source": [
    "MDPConstants = namedtuple('MDPConstants', ['δ_t','n_1', 'n_2', 'n_u', 'θ_max', 'v_max', 'u_max'])\n",
    "#θ is for X1, angular velocity is for X2, control is for u\n",
    "PendulumConstants = namedtuple('PendulumConstants', ['a', 'b', 'σ', 'k', 'r', 'γ'])\n",
    "#the constants that describe the pendulum\n",
    "DiscreteSpace = namedtuple('DiscreteSpace', ['X1_matrix', 'X2_matrix', 'U', 'Flat_board'])\n",
    "#The space describe the state space and control space\n",
    "\n",
    "myMDP = MDPConstants(δ_t=0.5, n_1=20, θ_max= math.pi, v_max=8, u_max=4, n_2=10, n_u=20)\n",
    "myPendulum = PendulumConstants(a=1, b=0, σ=1, k=1, r=1, γ=0.3)\n",
    "\n",
    "X1 = np.linspace(-myMDP.θ_max, myMDP.θ_max, myMDP.n_1) # one D array for X1\n",
    "X2 = np.linspace(-myMDP.v_max, myMDP.v_max, myMDP.n_2) # one D array for X2\n",
    "\n",
    "X1_matrix, X2_matrix = np.meshgrid(X1, X2) #create the state space for X meshgrid format\n",
    "U = np.linspace(-myMDP.u_max, myMDP.u_max, myMDP.n_u)[:, None] # one D array for control U\n",
    "# where row number is for X2, column number is for X1\n",
    "Flat_board = [i for i in zip(X1_matrix.flat, X2_matrix.flat)]\n",
    "mySpace = DiscreteSpace(X1_matrix = X1_matrix, X2_matrix = X2_matrix, U = U, Flat_board = Flat_board)\n"
   ]
  },
  {
   "cell_type": "markdown",
   "metadata": {},
   "source": [
    "# Gaussian Distribution"
   ]
  },
  {
   "cell_type": "code",
   "execution_count": 200,
   "metadata": {},
   "outputs": [
    {
     "name": "stdout",
     "output_type": "stream",
     "text": [
      "199\n",
      "199\n",
      "199\n",
      "199\n",
      "199\n",
      "199\n",
      "199\n",
      "199\n",
      "199\n",
      "199\n",
      "199\n",
      "199\n",
      "199\n",
      "199\n",
      "199\n",
      "199\n",
      "199\n",
      "199\n",
      "199\n",
      "199\n"
     ]
    }
   ],
   "source": [
    "#generating the probability transition\n",
    "Dmn_row = len(mySpace.Flat_board)\n",
    "Dmn_U = mySpace.U.shape[0]\n",
    "myX1matrix = np.copy(mySpace.X1_matrix)\n",
    "myX2matrix = np.copy(mySpace.X2_matrix)\n",
    "cov = myPendulum.σ * myMDP.δ_t\n",
    "\n",
    "Pr_transition = np.zeros((Dmn_U, Dmn_row, Dmn_row))\n",
    "stage_cost_table = np.zeros((Dmn_U, Dmn_row))\n",
    "\n",
    "#define stage cost function \n",
    "stage_cost = lambda x1, u: (1 - np.exp(myPendulum.k * (np.cos(x1)-1)) + \\\n",
    "                            myPendulum.r*u**2/2) * myMDP.δ_t\n",
    "#prepare for f(X,U) fucntion, with single u input\n",
    "f1 = myX2matrix\n",
    "f2 = myPendulum.a * np.sin(myX1matrix) - myPendulum.b * myX2matrix\n",
    "myX1 = np.array(mySpace.Flat_board)[:,0]\n",
    "\n",
    "for u_i in range(Dmn_U):\n",
    "    #implement state updates, X + f(X, U)*δ_t\n",
    "    u = mySpace.U[u_i, 0]\n",
    "    stage_cost_table[u_i, :] = stage_cost(myX1, u)\n",
    "    \n",
    "    f2_u = f2 + u\n",
    "    X1means = mySpace.X1_matrix + f1 * myMDP.δ_t # angle should be in the interval [-π, π]\n",
    "    X1means = (X1means + math.pi) % (2*math.pi) - math.pi\n",
    "\n",
    "    X2means = mySpace.X2_matrix + f2_u * myMDP.δ_t \n",
    "    #anglur velocity should be in interval[-vmax, vmax]\n",
    "    X2means[X2means<-myMDP.v_max] = -myMDP.v_max\n",
    "    X2means[X2means>myMDP.v_max] = myMDP.v_max\n",
    "    \n",
    "    #following is my shifted state\n",
    "    myXmeans = [x for x in zip(X1means.flat, X2means.flat)]\n",
    "    \n",
    "    for xmean_j, xmean in enumerate(myXmeans):\n",
    "        #find samples under each xmean of Xmeans, with gaussian distribution\n",
    "        pr_shiftpts = multivariate_normal.pdf\\\n",
    "        (mySpace.Flat_board, mean=xmean, cov=np.array([[1,0],[0,1]]))\n",
    "        \n",
    "        threshold =  multivariate_normal.pdf\\\n",
    "        (xmean, mean=xmean, cov=np.array([[1,0],[0,1]])) * 0.6\n",
    "        \n",
    "        mask = np.array(pr_shiftpts) > threshold\n",
    "        #myXsamples = np.array(mySpace.Flat_board)[mask]\n",
    "        \n",
    "        pr_myXsamples = np.array(pr_shiftpts)[mask]\n",
    "        #normalize these samples with corresponding probability so that sum of them is 1\n",
    "        normalized_pr_myXsamples = pr_myXsamples / pr_myXsamples.sum()\n",
    "        Pr_transition[u_i, xmean_j, :][mask] = normalized_pr_myXsamples\n",
    "    #print(xmean_j)\n",
    "    \n",
    "    \n"
   ]
  },
  {
   "cell_type": "markdown",
   "metadata": {},
   "source": [
    "# Value iteration and Policy Iteration"
   ]
  },
  {
   "cell_type": "code",
   "execution_count": 194,
   "metadata": {
    "collapsed": true
   },
   "outputs": [
    {
     "name": "stdout",
     "output_type": "stream",
     "text": [
      "315\n",
      "[ 2.86146733  2.83197605  2.80619246  2.78821755  2.77042676  2.75044482\n",
      "  2.71926111  2.67496403  2.62765415  2.59891109  2.60924721  2.66314527\n",
      "  2.7412942   2.77755995  2.84188616  2.87791769  2.89549389  2.89523087\n",
      "  2.88728403  2.86146733  2.80956538  2.82205224  2.8494855   2.87632239\n",
      "  2.88575503  2.86173212  2.80015725  2.71152788  2.62514381  2.56744006\n",
      "  2.57068221  2.63014068  2.71641113  2.80394287  2.86100609  2.87280468\n",
      "  2.87219737  2.84413434  2.81866679  2.80956538  2.8623733   2.88752084\n",
      "  2.9022985   2.89502296  2.87787566  2.84240439  2.77809075  2.74377854\n",
      "  2.66484634  2.61046864  2.59919068  2.62741104  2.67346692  2.71768805\n",
      "  2.74908825  2.76968113  2.78485242  2.80687114  2.83299726  2.8623733\n",
      "  2.8532959   2.88715498  2.90065765  2.91512699  2.8979019   2.9104504\n",
      "  2.83886198  2.76133455  2.67186547  2.58299985  2.54164928  2.5465763\n",
      "  2.56014614  2.59303512  2.631598    2.67402946  2.72079875  2.76133528\n",
      "  2.811434    2.8532959   2.96000304  3.0043831   3.20154547  3.20197884\n",
      "  3.17719975  3.12940347  3.01313295  2.85860955  2.66767042  2.4905605\n",
      "  2.36262896  2.30498994  2.31161825  2.35417889  2.46102794  2.56860596\n",
      "  2.68283508  2.79639899  2.90066354  2.96000304  2.96000304  2.90066354\n",
      "  2.79639899  2.68283508  2.56860596  2.46102794  2.35417889  2.31161825\n",
      "  2.30498994  2.36262896  2.4905605   2.66767042  2.85860955  3.01313295\n",
      "  3.12940347  3.17719975  3.20197884  3.20154547  3.0043831   2.96000304\n",
      "  2.8532959   2.811434    2.76133528  2.72079875  2.67402946  2.631598\n",
      "  2.59303512  2.56014614  2.5465763   2.54164928  2.58299985  2.67186547\n",
      "  2.76133455  2.83886198  2.9104504   2.8979019   2.91512699  2.90065765\n",
      "  2.88715498  2.8532959   2.8623733   2.83299726  2.80687114  2.78485242\n",
      "  2.76968113  2.74908825  2.71768805  2.67346692  2.62741104  2.59919068\n",
      "  2.61046864  2.66484634  2.74377854  2.77809075  2.84240439  2.87787566\n",
      "  2.89502296  2.9022985   2.88752084  2.8623733   2.80956538  2.81866679\n",
      "  2.84413434  2.87219737  2.87280468  2.86100609  2.80394287  2.71641113\n",
      "  2.63014068  2.57068221  2.56744006  2.62514381  2.71152788  2.80015725\n",
      "  2.86173212  2.88575503  2.87632239  2.8494855   2.82205224  2.80956538\n",
      "  2.86146733  2.88728403  2.89523087  2.89549389  2.87791769  2.84188616\n",
      "  2.77755995  2.7412942   2.66314527  2.60924721  2.59891109  2.62765415\n",
      "  2.67496403  2.71926111  2.75044482  2.77042676  2.78821755  2.80619246\n",
      "  2.83197605  2.86146733]\n",
      "[10  9  9  9  9  9  9  9 10  9  9  9 10  9 10  9 10 10 10 10  9  9  9  9 10\n",
      " 10 10 10 10  9  9 10 10  9 10 10  9  9  9  9  9  9  9  9  9  9  9  9 10 10\n",
      "  9 10  9  9  9  9 10  9  9  9  9  9 10 10  9  9 10  9 10 10  9 10  9  9  9\n",
      " 10  9  9 10  9  9  9  9 10 10 10  9  9 10  9  9 10  9 10  9  9  9  9  9  9\n",
      "  9 10  9 10 10 10  9  9 10  9 10 10  9 10  9  9  9  9 10  9  9  9 10  9  9\n",
      "  9  9  9  9 10  9  9 10 10 10 10  9  9 10  9  9  9  9  9 10 10 10 10  9  9\n",
      " 10 10 10  9  9 10 10  9  9  9  9  9  9  9  9  9 10  9  9  9  9 10  9  9  9\n",
      "  9  9  9  9  9  9 10  9  9  9 10 10  9 10  9  9 10  9  9  9  9  9  9  9  9]\n",
      "154\n",
      "[ 2.86146733  2.83197605  2.80619246  2.78821755  2.77042676  2.75044482\n",
      "  2.71926111  2.67496403  2.62765415  2.59891109  2.60924721  2.66314527\n",
      "  2.7412942   2.77755995  2.84188616  2.87791769  2.89549389  2.89523087\n",
      "  2.88728403  2.86146733  2.80956538  2.82205224  2.8494855   2.87632239\n",
      "  2.88575503  2.86173212  2.80015725  2.71152788  2.62514381  2.56744006\n",
      "  2.57068221  2.63014068  2.71641113  2.80394287  2.86100609  2.87280468\n",
      "  2.87219737  2.84413434  2.81866679  2.80956538  2.8623733   2.88752084\n",
      "  2.9022985   2.89502296  2.87787566  2.84240439  2.77809075  2.74377854\n",
      "  2.66484634  2.61046864  2.59919068  2.62741104  2.67346692  2.71768805\n",
      "  2.74908825  2.76968113  2.78485242  2.80687114  2.83299726  2.8623733\n",
      "  2.8532959   2.88715498  2.90065765  2.91512699  2.8979019   2.9104504\n",
      "  2.83886198  2.76133455  2.67186547  2.58299985  2.54164928  2.5465763\n",
      "  2.56014614  2.59303512  2.631598    2.67402946  2.72079875  2.76133528\n",
      "  2.811434    2.8532959   2.96000304  3.0043831   3.20154547  3.20197884\n",
      "  3.17719975  3.12940347  3.01313295  2.85860955  2.66767042  2.4905605\n",
      "  2.36262896  2.30498994  2.31161825  2.35417889  2.46102794  2.56860596\n",
      "  2.68283508  2.79639899  2.90066354  2.96000304  2.96000304  2.90066354\n",
      "  2.79639899  2.68283508  2.56860596  2.46102794  2.35417889  2.31161825\n",
      "  2.30498994  2.36262896  2.4905605   2.66767042  2.85860955  3.01313295\n",
      "  3.12940347  3.17719975  3.20197884  3.20154547  3.0043831   2.96000304\n",
      "  2.8532959   2.811434    2.76133528  2.72079875  2.67402946  2.631598\n",
      "  2.59303512  2.56014614  2.5465763   2.54164928  2.58299985  2.67186547\n",
      "  2.76133455  2.83886198  2.9104504   2.8979019   2.91512699  2.90065765\n",
      "  2.88715498  2.8532959   2.8623733   2.83299726  2.80687114  2.78485242\n",
      "  2.76968113  2.74908825  2.71768805  2.67346692  2.62741104  2.59919068\n",
      "  2.61046864  2.66484634  2.74377854  2.77809075  2.84240439  2.87787566\n",
      "  2.89502296  2.9022985   2.88752084  2.8623733   2.80956538  2.81866679\n",
      "  2.84413434  2.87219737  2.87280468  2.86100609  2.80394287  2.71641113\n",
      "  2.63014068  2.57068221  2.56744006  2.62514381  2.71152788  2.80015725\n",
      "  2.86173212  2.88575503  2.87632239  2.8494855   2.82205224  2.80956538\n",
      "  2.86146733  2.88728403  2.89523087  2.89549389  2.87791769  2.84188616\n",
      "  2.77755995  2.7412942   2.66314527  2.60924721  2.59891109  2.62765415\n",
      "  2.67496403  2.71926111  2.75044482  2.77042676  2.78821755  2.80619246\n",
      "  2.83197605  2.86146733]\n",
      "[ 9  9  9  9  9  9  9  9 10 10  9  9 10  9 10 10 10 10  9 10  9  9  9  9 10\n",
      " 10 10 10 10  9  9 10 10  9 10 10  9  9 10  9  9  9 10  9  9  9  9  9 10  9\n",
      "  9  9  9  9  9  9 10  9  9  9  9  9 10 10  9  9 10  9 10 10  9 10  9  9  9\n",
      " 10  9  9 10  9  9 10  9  9 10 10  9 10 10  9  9 10  9 10  9  9  9  9  9  9\n",
      "  9 10  9 10 10 10  9  9 10  9  9  9  9 10  9  9  9  9  9  9  9  9 10  9  9\n",
      " 10  9 10  9 10  9  9 10 10  9 10  9  9 10  9  9  9  9  9 10 10 10 10  9  9\n",
      " 10 10 10  9  9 10 10  9  9  9  9  9 10  9  9  9 10  9  9  9  9 10  9  9  9\n",
      "  9  9 10  9  9  9  9  9  9 10 10 10  9 10  9  9 10  9  9  9  9  9  9  9  9]\n"
     ]
    }
   ],
   "source": [
    "class optimal ():\n",
    "    def __init__(self, transition, Cost, Dmn_U, Dmn_row):\n",
    "        self.P = transition\n",
    "        self.C = Cost\n",
    "        self.A = Dmn_U\n",
    "        self.S = Dmn_row\n",
    "        \n",
    "    def _clean(self):\n",
    "        self.value = np.zeros((self.S, 1))\n",
    "        self.J = np.zeros((self.S, 1))\n",
    "        self.policy = None\n",
    "        self.discount = 0.9\n",
    "        self.epsilon = 0.001\n",
    "        self.i = 0\n",
    "    \n",
    "    def _bellmanOperator(self, V):\n",
    "        Q = np.zeros((self.A, self.S)) #A, S\n",
    "        for aa in range(self.A):\n",
    "            Q[aa] = self.C[aa].squeeze() + (self.discount * (self.P[aa]).dot(V)).squeeze()\n",
    "            #1* 10000 = 1* 10000 + 10000* 10000 dot 10000 * 1 \n",
    "        policy = Q.argmin(axis=0) #1*10000 in 1D in index, each column compare its rows\n",
    "        value = Q.min(axis=0)[:, None] #1*10000 in 1D\n",
    "        return policy, value\n",
    "        \n",
    "    def ValueIteration(self):\n",
    "        self._clean()\n",
    "        delta = None\n",
    "        while True:\n",
    "            self.i = self.i + 1\n",
    "            V = self.value.copy()\n",
    "            self.policy, self.value = self._bellmanOperator(V)\n",
    "            delta = abs(self.value - V)\n",
    "            if delta.all() < (1-self.discount)/self.discount:\n",
    "                print(self.i)\n",
    "                break\n",
    "                \n",
    "    def PolicyIteration(self):\n",
    "        #initialize\n",
    "        self._clean()\n",
    "        delta = None\n",
    "        policy_idx = np.random.choice(self.A, self.S)\n",
    "        value_idx = np.arange(self.S)\n",
    "        \n",
    "        while True:\n",
    "            self.i = self.i + 1\n",
    "            J = self.J.copy()\n",
    "            #Policy Evaluation\n",
    "            mycost = self.C[policy_idx, value_idx] #1 * 10000\n",
    "            myP = self.P[policy_idx, value_idx, :]\n",
    "            J = (mycost.squeeze() + (self.discount * myP.dot(J)).squeeze())[:,None]\n",
    "            #Policy Improvement\n",
    "            self.policy, self.J = self._bellmanOperator(J)\n",
    "            policy_idx = self.policy.copy()\n",
    "            \n",
    "            delta = abs(self.J - J)\n",
    "            if delta.all() < (1-self.discount)/self.discount:\n",
    "                print(self.i)\n",
    "                break\n",
    "            #after break, we have best policy for each states, and value for each states\n",
    "                   \n",
    "myV = optimal(Pr_transition, stage_cost_table, Dmn_U, Dmn_row)  \n",
    "myV.ValueIteration()\n",
    "#print(myV.value.squeeze())\n",
    "#print(myV.policy.squeeze())\n",
    "\n",
    "\n",
    "myP = optimal(Pr_transition, stage_cost_table, Dmn_U, Dmn_row)  \n",
    "myP.PolicyIteration()\n",
    "#print(myP.J.squeeze())\n",
    "#print(myP.policy.squeeze())\n",
    "\n",
    " "
   ]
  },
  {
   "cell_type": "markdown",
   "metadata": {},
   "source": [
    "# stablize the Pendulum"
   ]
  },
  {
   "cell_type": "code",
   "execution_count": 209,
   "metadata": {},
   "outputs": [
    {
     "name": "stdout",
     "output_type": "stream",
     "text": [
      "20\n",
      "10\n"
     ]
    },
    {
     "data": {
      "text/plain": [
       "[(0, 0),\n",
       " (-0.0048759630400669884, 4.1449652377490551),\n",
       " (2.0987153388495177, 8),\n",
       " (-0.16637693275387022, 8),\n",
       " (-1.5414598164559186, 8),\n",
       " (1.0614331480254338, 8),\n",
       " (-0.88919353151810832, 8),\n",
       " (-2.7160562538763191, 8),\n",
       " (1.2908142305328933, 8),\n",
       " (-1.4713059568296494, 8),\n",
       " (2.548548350317164, 8),\n",
       " (1.9426473720464923, 8),\n",
       " (-1.0623510987346734, 8),\n",
       " (-2.5977357744373126, 8),\n",
       " (2.0363825160254923, 8),\n",
       " (-0.9801246173182232, 8),\n",
       " (2.9602459470102094, 8),\n",
       " (0.18509928942028253, 8),\n",
       " (-2.9265987888838758, 8),\n",
       " (1.8806812212981168, 8),\n",
       " (-0.00088143013083730182, 8)]"
      ]
     },
     "execution_count": 209,
     "metadata": {},
     "output_type": "execute_result"
    }
   ],
   "source": [
    "######how to find uu_idx based on given x1 and given x2\n",
    "test_X1 = np.linspace(-myMDP.θ_max, myMDP.θ_max, myMDP.n_1) # one D array for X1\n",
    "test_X2 = np.linspace(-myMDP.v_max, myMDP.v_max, myMDP.n_2) # one D array for X2\n",
    "len_X1 = len(test_X1) #width\n",
    "print(len_X1)\n",
    "len_X2 = len(test_X2) #height\n",
    "print(len_X2)\n",
    "policy_table = myP.policy.squeeze()\n",
    "\n",
    "\n",
    "given_x1 = 0\n",
    "given_x2 = 0\n",
    "mytrajectory = [(given_x1, given_x2)]\n",
    "count = 0\n",
    "while count < 20:\n",
    "    count = count + 1\n",
    "    \n",
    "    X1_idx = np.argmin(np.abs(test_X1 - given_x1))\n",
    "    X2_idx = np.argmin(np.abs(test_X2 - given_x2))\n",
    "\n",
    "    uu_idx = len_X1 * X2_idx + X1_idx #  width * point_height + point_x1 index\n",
    "\n",
    "    uu = policy_table[uu_idx]\n",
    "    dw = np.random.multivariate_normal(np.array([0,0]), \\\n",
    "                                       np.array([[myMDP.δ_t, 0],[0, myMDP.δ_t]]))\n",
    "    fx1 = given_x2\n",
    "    fx2 = myPendulum.a * math.sin(given_x1) - myPendulum.b * given_x2\n",
    "    fx2_u = fx2 + uu\n",
    "    \n",
    "    given_x1 = given_x1 + fx1* myMDP.δ_t  + dw[0]\n",
    "    given_x2 = given_x2 + fx2_u* myMDP.δ_t  + dw[1]\n",
    "    given_x1 = (given_x1 + math.pi) % (2*math.pi) - math.pi\n",
    "    \n",
    "    if given_x2 < -myMDP.v_max:\n",
    "        given_x2 = -myMDP.v_max\n",
    "    elif given_x2 > myMDP.v_max:\n",
    "        given_x2 = myMDP.v_max\n",
    " \n",
    "    mytrajectory.append((given_x1, given_x2))\n",
    "    \n",
    "\n",
    "mytrajectory\n"
   ]
  },
  {
   "cell_type": "markdown",
   "metadata": {},
   "source": [
    "# Test"
   ]
  },
  {
   "cell_type": "code",
   "execution_count": 210,
   "metadata": {},
   "outputs": [
    {
     "name": "stdout",
     "output_type": "stream",
     "text": [
      "(20, 200, 200)\n",
      "(200, 20)\n",
      "[ 0.  0.  0.  0.  0.  0.  0.  0.  0.  0.  0.  0.  0.  0.  0.  0.  0.  0.\n",
      "  0.  0.  0.  0.  0.  0.  0.  0.  0.  0.  0.  0.  0.  0.  0.  0.  0.  0.\n",
      "  0.  0.  0.  0.  0.  0.  0.  0.  0.  0.  0.  0.  0.  0.  0.  0.  0.  0.\n",
      "  0.  0.  0.  0.  0.  0.  0.  0.  0.  0.  0.  0.  0.  0.  0.  0.  0.  0.\n",
      "  0.  0.  0.  0.  0.  0.  0.  0.  0.  0.  0.  0.  0.  0.  0.  0.  0.  0.\n",
      "  0.  0.  0.  0.  0.  0.  0.  0.  0.  0.  0.  0.  0.  0.  0.  0.  0.  0.\n",
      "  0.  0.  0.  0.  0.  0.  0.  0.  0.  0.  0.  0.  0.  0.  0.  0.  0.  0.\n",
      "  0.  0.  0.  0.  0.  0.  0.  0.  0.  0.  0.  0.  0.  0.  0.  0.  0.  0.\n",
      "  0.  0.  0.  0.  0.  0.  0.  0.  0.  0.  0.  0.  0.  0.  0.  0.  0.  0.\n",
      "  0.  0.  0.  0.  0.  0.  0.  0.  0.  0.  0.  0.  0.  0.  0.  0.  0.  0.\n",
      "  0.  0.  0.  0.  0.  0.  0.  0.  0.  0.  0.  0.  0.  0.  0.  0.  0.  0.\n",
      "  0.  0.]\n",
      "[10 10 10 10 10 10 10 10 10 10 10 10 10 10 10 10 10 10 10 10 10 10 10 10 10\n",
      " 10 10 10 10 10 10 10 10 10 10 10 10 10 10 10 10 10 10 10 10 10 10 10 10 10\n",
      " 10 10 10 10 10 10 10 10 10 10 10 10 10 10 10 10 10 10 10 10 10 10 10 10 10\n",
      " 10 10 10 10 10 10 10 10 10 10 10 10 10 10 10 10 10 10 10 10 10 10 10 10 10\n",
      " 10 10 10 10 10 10 10 10 10 10 10 10 10 10 10 10 10 10 10 10 10 10 10 10 10\n",
      " 10 10 10 10 10 10 10 10 10 10 10 10 10 10 10 10 10 10 10 10 10 10 10 10 10\n",
      " 10 10 10 10 10 10 10 10 10 10 10 10 10 10 10 10 10 10 10 10 10 10 10 10 10\n",
      " 10 10 10 10 10 10 10 10 10 10 10 10 10 10 10 10 10 10 10 10 10 10 10 10 10]\n"
     ]
    },
    {
     "data": {
      "text/plain": [
       "0"
      ]
     },
     "execution_count": 210,
     "metadata": {},
     "output_type": "execute_result"
    }
   ],
   "source": [
    "print(Pr_transition.shape)\n",
    "print(stage_cost_table.T.shape)\n",
    "mybest = mdp.PolicyIteration(Pr_transition, -stage_cost_table.T, 0.9)\n",
    "\n",
    "\n",
    "print(mybest.V)\n",
    "print(mybest.policy)\n",
    "mybest.iter\n",
    "\n"
   ]
  },
  {
   "cell_type": "code",
   "execution_count": 188,
   "metadata": {},
   "outputs": [
    {
     "data": {
      "text/plain": [
       "0.65320240682647912"
      ]
     },
     "execution_count": 188,
     "metadata": {},
     "output_type": "execute_result"
    }
   ],
   "source": [
    "dw = np.random.multivariate_normal(np.array([0,0]), \\\n",
    "                                   np.array([[myMDP.δ_t, 0],[0, myMDP.δ_t]]))\n",
    "dw[0]"
   ]
  }
 ],
 "metadata": {
  "kernelspec": {
   "display_name": "Python 3",
   "language": "python",
   "name": "python3"
  },
  "language_info": {
   "codemirror_mode": {
    "name": "ipython",
    "version": 3
   },
   "file_extension": ".py",
   "mimetype": "text/x-python",
   "name": "python",
   "nbconvert_exporter": "python",
   "pygments_lexer": "ipython3",
   "version": "3.6.3"
  }
 },
 "nbformat": 4,
 "nbformat_minor": 2
}
